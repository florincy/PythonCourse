{
 "cells": [
  {
   "cell_type": "markdown",
   "metadata": {},
   "source": [
    "\n",
    "#Estudando o DNA com Python\n",
    "\n",
    "<p>O DNA é formado uma sequência de nucleotídeos, que, por sua vez, são compostos de um açúcar, um grupo fosfato e uma base nitrogenada. Podemos a representar o DNA como uma sequência de letras correspondentes às base nitrogenadas:<p>\n",
    "\n",
    "* A: Adenina\n",
    "* T: Timina\n",
    "* C: Citosina \n",
    "* G: Guanina \n",
    "\n",
    "\n",
    "##Exercicío\n",
    "\n",
    "1. Usando o método string.count, faça um programa que conte e mostre na tela o número de cada base em uma sequência de DNA, definida pelo usuário.\n",
    "2. Usando o método string.count, Faça um programa que informe a % de C e G em uma sequência de DNA, definida pelo usuário. "
   ]
  },
  {
   "cell_type": "code",
   "execution_count": 3,
   "metadata": {},
   "outputs": [
    {
     "name": "stdout",
     "output_type": "stream",
     "text": [
      "{'A': 0, 'T': 0, 'C': 0, 'G': 0}\n"
     ]
    }
   ],
   "source": [
    "def contar_nucleotideoos(sequencia_dna):\n",
    "    # Initialize a dictionary to store the counts\n",
    "    contador_de_nucleotideoos = {'A': 0, 'T': 0, 'C': 0, 'G': 0}\n",
    "    \n",
    "    # Loop through each nucleotideo in the sequence and update the counts\n",
    "    for nucleotideo in sequencia_dna:\n",
    "        if nucleotideo in contador_de_nucleotideoos:\n",
    "            contador_de_nucleotideoos[nucleotideo] += 1\n",
    "    \n",
    "    return contador_de_nucleotideoos\n",
    "    \n",
    "if __name__ == \"__main__\":\n",
    "    sequencia=input(\"Digite a sequência de nucleotídeos\")\n",
    "    print(contar_nucleotideoos(sequencia))"
   ]
  },
  {
   "cell_type": "code",
   "execution_count": null,
   "metadata": {},
   "outputs": [],
   "source": [
    "def calcular_cg(sequencia_dna):\n",
    "    # Count the number of G and C nucleotideos\n",
    "    contar_g = sequencia_dna.count('G')\n",
    "    contar_c = sequencia_dna.count('C')\n",
    "    \n",
    "    # Calculate the GC content\n",
    "    gc_content = ((contar_g + contar_c) / len(sequencia_dna)) * 100\n",
    "    \n",
    "    return round(gc_content, 2)\n",
    "if __name__ == \"__main__\":\n",
    "    sequencia=input(\"Digite a sequência de nucleotídeos\")\n",
    "    print(calcular_cg(sequencia))"
   ]
  }
 ],
 "metadata": {
  "kernelspec": {
   "display_name": "Python 3",
   "language": "python",
   "name": "python3"
  },
  "language_info": {
   "codemirror_mode": {
    "name": "ipython",
    "version": 3
   },
   "file_extension": ".py",
   "mimetype": "text/x-python",
   "name": "python",
   "nbconvert_exporter": "python",
   "pygments_lexer": "ipython3",
   "version": "3.10.12"
  }
 },
 "nbformat": 4,
 "nbformat_minor": 2
}
