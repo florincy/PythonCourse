{
 "cells": [
  {
   "cell_type": "markdown",
   "metadata": {},
   "source": [
    "\n",
    "#Aula 3\n",
    "\n",
    "##Estruturas condicionais\n",
    "\n",
    "São estruturas que permitem tomada de decisão dentro do programa. Na maioria dos casos, a decisão depende de variáveis ou expressões aritméticas/operadores\n",
    "\n",
    "Em Python, a indentação do código é fundamental para construção de estruturas de repetição\n",
    "\n",
    "Para definição das condições, utilizamos, no geral:\n",
    "1. Operadores de comparação\n",
    "2. Operadores lógicos\n",
    "3. Operadores de identidade\n",
    "4. Operadores de associação\n",
    "\n",
    "| Operador | Nome           |\n",
    "|----------|----------------|\n",
    "| ==       | Igual a        |\n",
    "| !=       | Diferente de   |\n",
    "| >        | Maior que      |\n",
    "| >=       | Maior ou igual |\n",
    "| <        | Menor que      |\n",
    "| <=       | Menor ou igual | \n",
    "\n",
    "<p>&nbsp;</p>\n",
    "\n",
    "| Operador | Nome    |\n",
    "|----------|---------|\n",
    "| or       | Ou      |\n",
    "| and      | E       |\n",
    "| not      | Negação |\n",
    "\n",
    "<p>&nbsp;</p>\n",
    "\n",
    "| Operador | Definição                                                                 |\n",
    "|----------|---------------------------------------------------------------------------|\n",
    "| is       | Retorna verdadeiro se duas variáveis estão localizadas na mesma área da memória |\n",
    "| is not   | Retorna verdadeiro se duas variáveis não estão localizadas na mesma área da memória |\n",
    "\n",
    "<p>&nbsp;</p>\n",
    "\n",
    "| Operador | Definição                                                                 |\n",
    "|----------|---------------------------------------------------------------------------|\n",
    "| in       | Retorna verdadeiro se o valor está contido na sequência |\n",
    "| in not   | Retorna verdadeiro se o valor não está contido na sequência|\n",
    "\n"
   ]
  },
  {
   "cell_type": "markdown",
   "metadata": {},
   "source": [
    "\n",
    "##if, elif, else\n",
    "\n",
    "```python \n",
    "if condição_1: \n",
    "\tbloco_1\n",
    "elif condição_2: \n",
    "\tbloco_2  \n",
    "elif condição_n: \n",
    "\tbloco_n \n",
    "else: \n",
    "\tbloco_do_else\n"
   ]
  },
  {
   "cell_type": "markdown",
   "metadata": {},
   "source": [
    "Exemplos com operadores comparativos"
   ]
  },
  {
   "cell_type": "code",
   "execution_count": 104,
   "metadata": {},
   "outputs": [
    {
     "name": "stdout",
     "output_type": "stream",
     "text": [
      "Doador universal\n"
     ]
    }
   ],
   "source": [
    "#1) Operadores comparativos\n",
    "nome = \"Simone\"\n",
    "tipo_sanguineo = \"o+\"\n",
    "if tipo_sanguineo == \"o+\":\n",
    "    print(\"Doador universal\")\n",
    "else: \n",
    "    print(\"Não é doador universal\")"
   ]
  },
  {
   "cell_type": "code",
   "execution_count": 105,
   "metadata": {},
   "outputs": [
    {
     "name": "stdout",
     "output_type": "stream",
     "text": [
      "Número positivo\n",
      "Não é possível dividir por zero\n"
     ]
    }
   ],
   "source": [
    "#Sim, você pode usar um if sem um else!\n",
    "\n",
    "numero = 1\n",
    "if  numero >= 0:\n",
    "    print(\"Número positivo\")\n",
    "    \n",
    "denominador = 0\n",
    "numerador = 1\n",
    "if denominador != 0:\n",
    "    resultado = numerador/denominador\n",
    "    print(resultado)\n",
    "else:\n",
    "    print(\"Não é possível dividir por zero\")"
   ]
  },
  {
   "cell_type": "markdown",
   "metadata": {},
   "source": [
    "Exemplos com operadores lógicos "
   ]
  },
  {
   "cell_type": "code",
   "execution_count": 106,
   "metadata": {},
   "outputs": [
    {
     "name": "stdout",
     "output_type": "stream",
     "text": [
      "a é número par positivo\n"
     ]
    }
   ],
   "source": [
    "a=2\n",
    "if a >= 0 and a%2 == 0:\n",
    "    print(\"a é número par positivo\")"
   ]
  },
  {
   "cell_type": "markdown",
   "metadata": {},
   "source": [
    "Exemplos com operadores de identidade"
   ]
  },
  {
   "cell_type": "code",
   "execution_count": 107,
   "metadata": {},
   "outputs": [
    {
     "name": "stdout",
     "output_type": "stream",
     "text": [
      "Não estão no mesmo lugar da memória\n"
     ]
    }
   ],
   "source": [
    "vetor1=[0,0,0]\n",
    "vetor2=[1,1,1]\n",
    "if vetor1 is vetor2:\n",
    "    print(\"Estão no mesmo lugar na memória\")\n",
    "else:\n",
    "    print(\"Não estão no mesmo lugar da memória\")"
   ]
  },
  {
   "cell_type": "markdown",
   "metadata": {},
   "source": [
    "Exemplo com operadores de associação"
   ]
  },
  {
   "cell_type": "code",
   "execution_count": 108,
   "metadata": {},
   "outputs": [
    {
     "name": "stdout",
     "output_type": "stream",
     "text": [
      "1 não está no vector 1\n"
     ]
    }
   ],
   "source": [
    "vetor1=[0,0,0]\n",
    "if 1 in vetor1:\n",
    "    print(\"1 está no vector 1\")\n",
    "else:   \n",
    "    print(\"1 não está no vector 1\")"
   ]
  },
  {
   "cell_type": "markdown",
   "metadata": {},
   "source": [
    "##Match Case\n"
   ]
  },
  {
   "cell_type": "markdown",
   "metadata": {},
   "source": [
    "```python\n",
    "match variavel: \n",
    "\tcase padrao1: \n",
    "\t\tbloco1 \n",
    "\tcase padrao2: \n",
    "\t\tbloco2 \n",
    "\tcase padrao3: \n",
    "\t\tbloco3 \n",
    "\tcase _: \n",
    "\t\tbloco-padrão "
   ]
  },
  {
   "cell_type": "markdown",
   "metadata": {},
   "source": [
    "\n",
    "##Exercícios\n",
    "\n",
    "1. Faça um programa para um depósito de bebidas automatizado que recebe o valor da idade do consumidor. Se o consumidor for maior de idade a compra é autorizada, senão a compra é negada. Exiba na tela a autorização/não autorização da compra."
   ]
  },
  {
   "cell_type": "code",
   "execution_count": null,
   "metadata": {},
   "outputs": [],
   "source": [
    "# Write your code here and execute it"
   ]
  },
  {
   "cell_type": "markdown",
   "metadata": {},
   "source": [
    "<details>\n",
    "<summary>Solution</summary>\n",
    "\n",
    "```python\n",
    "idade = int(input(\"Digite sua idade: \"))\n",
    "if idade >= 18:\n",
    "    print(\"Compra autorizada. Aproveite sua bebida!\")\n",
    "else:\n",
    "    print(\"Compra negada. Desculpe, você não é maior de idade.\")"
   ]
  },
  {
   "cell_type": "markdown",
   "metadata": {},
   "source": [
    "2. Faça um programa que leia três valores a, b e c e verifique se eles formam um triângulo. Se sim, verifique se o triângulo é equilátero, isósceles ou escaleno\n",
    "\n",
    "Equilátero = 3 lados iguais\n",
    "Isósceles = 2 lados iguais\n",
    "Escaleno = Nenhum lado igual"
   ]
  },
  {
   "cell_type": "code",
   "execution_count": null,
   "metadata": {},
   "outputs": [],
   "source": [
    "# Write your code here and execute it"
   ]
  },
  {
   "cell_type": "markdown",
   "metadata": {},
   "source": [
    "<details>\n",
    "<summary>Solution</summary>\n",
    "\n",
    "```python\n",
    "a = float(input(\"Digite o valor do lado a: \"))\n",
    "b = float(input(\"Digite o valor do lado b: \"))\n",
    "c = float(input(\"Digite o valor do lado c: \"))\n",
    "\n",
    "if a + b > c and a + c > b and b + c > a:\n",
    "    # Verifica se os lados formam um triângulo\n",
    "    if a == b == c:\n",
    "        print(\"É triângulo equilátero\")  # Três lados iguais\n",
    "    elif a == b or a == c or b == c:\n",
    "        print(\"É triângulo isósceles\")  # Dois lados iguais\n",
    "    else:\n",
    "        print(\"É triângulo escaleno\")    # Todos os lados diferentes\n",
    "else:\n",
    "    print(\"Não é um triângulo\")"
   ]
  },
  {
   "cell_type": "markdown",
   "metadata": {},
   "source": [
    "3. Faça um programa que receba uma temperatura em K, C° ou F° e converta para uma das unidades restantes a pedido do usuário. Para isso, utilize um menu com match case."
   ]
  },
  {
   "cell_type": "code",
   "execution_count": null,
   "metadata": {},
   "outputs": [],
   "source": [
    "# Write your code here and execute it"
   ]
  },
  {
   "cell_type": "markdown",
   "metadata": {},
   "source": [
    "<details>\n",
    "<summary>Solution</summary>\n",
    "\n",
    "```python\n",
    "print(\"Escolha a unidade de temperatura:\")\n",
    "print(\"1. Kelvin (K)\")\n",
    "print(\"2. Celsius (C°)\")\n",
    "print(\"3. Fahrenheit (F°)\")\n",
    "escolha_origem = input(\"Digite a unidade de temperatura de origem (K/C/F): \")\n",
    "escolha_destino = input(\"Digite a unidade de temperatura de destino (K/C/F): \")\n",
    "temperatura = float(input(\"Digite a temperatura: \"))\n",
    "# Realizar as conversões diretamente\n",
    "match (escolha_origem, escolha_destino):\n",
    "    case ('K', 'C'):\n",
    "        resultado = temperatura - 273.15\n",
    "    case ('K', 'F'):\n",
    "        resultado = (temperatura - 273.15) * 9/5 + 32\n",
    "    case ('C', 'K'):\n",
    "        resultado = temperatura + 273.15\n",
    "    case ('C', 'F'):\n",
    "        resultado = temperatura * 9/5 + 32\n",
    "    case ('F', 'K'):\n",
    "        resultado = (temperatura - 32) * 5/9 + 273.15\n",
    "    case ('F', 'C'):\n",
    "        resultado = (temperatura - 32) * 5/9\n",
    "print(f\"\\nA temperatura convertida é: {resultado:.2f} {escolha_destino}\")\n",
    "```\n"
   ]
  }
 ],
 "metadata": {
  "kernelspec": {
   "display_name": "Python 3",
   "language": "python",
   "name": "python3"
  },
  "language_info": {
   "codemirror_mode": {
    "name": "ipython",
    "version": 3
   },
   "file_extension": ".py",
   "mimetype": "text/x-python",
   "name": "python",
   "nbconvert_exporter": "python",
   "pygments_lexer": "ipython3",
   "version": "3.10.12"
  }
 },
 "nbformat": 4,
 "nbformat_minor": 2
}
