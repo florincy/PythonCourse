{
 "cells": [
  {
   "cell_type": "markdown",
   "metadata": {},
   "source": [
    "\n",
    "#Aula 2\n",
    "\n",
    "##Variáveis\n",
    "\n",
    "Em Python, não há um comando para se declarar variáveis e as variáveis não precisam ser definidas com um tipo específico."
   ]
  },
  {
   "cell_type": "code",
   "execution_count": 66,
   "metadata": {},
   "outputs": [],
   "source": [
    "x=1\n",
    "y=\"simone\"\n",
    "z=1.0"
   ]
  },
  {
   "cell_type": "markdown",
   "metadata": {},
   "source": [
    "Porém, é possível definir um tipo específico para uma variável usando casting.\n",
    "Exemplos:"
   ]
  },
  {
   "cell_type": "code",
   "execution_count": 67,
   "metadata": {},
   "outputs": [],
   "source": [
    "#Tipos de casting em tipos primitivos\n",
    "x=1\n",
    "xint=int(x)\n",
    "xfloat=float(x)\n",
    "xstring=str(x)"
   ]
  },
  {
   "cell_type": "markdown",
   "metadata": {},
   "source": [
    "Além dos tipos primitivos, em Python, são definidos tipos não primitivos"
   ]
  },
  {
   "cell_type": "code",
   "execution_count": 68,
   "metadata": {},
   "outputs": [],
   "source": [
    "dictionary = {\"bola\": \"verde\",\"redonda\":True}\n",
    "lista=[\"simone\", 1258] \n",
    "tuple=(\"simone\", 1258) #Aspas são opcionais\n",
    "set={\"1\",\"qualquer\"}"
   ]
  },
  {
   "cell_type": "markdown",
   "metadata": {},
   "source": [
    "\n",
    "##Regras para nomear variáveis \n",
    "\n",
    "1. Somente são reconhecidos caracteres do alfabeto, números e “_”\n",
    "2. Não se pode usar palavras reservas do Python como nome de variável (Ex: print, input, etc)\n",
    "3. Não se pode começar o nome de uma variável com número"
   ]
  },
  {
   "cell_type": "markdown",
   "metadata": {},
   "source": [
    "\n",
    "##Escrevendo em Python\n",
    "\n",
    "Para exibir na tela, usamos. Note que estamos exibindo uma string, mas podemos exibir outros tipos primitivos e não primitivos.\n"
   ]
  },
  {
   "cell_type": "code",
   "execution_count": 69,
   "metadata": {},
   "outputs": [
    {
     "name": "stdout",
     "output_type": "stream",
     "text": [
      "olá, mundo!\n"
     ]
    }
   ],
   "source": [
    "print(\"olá, mundo!\")"
   ]
  },
  {
   "cell_type": "markdown",
   "metadata": {},
   "source": [
    "Pode-se “printar” o valor de expressões Python dentro de uma string:"
   ]
  },
  {
   "cell_type": "code",
   "execution_count": 70,
   "metadata": {},
   "outputs": [
    {
     "name": "stdout",
     "output_type": "stream",
     "text": [
      "Texto variavel\n",
      "Texto variavel\n"
     ]
    }
   ],
   "source": [
    "variavel=\"variavel\"\n",
    "print (f'Texto {variavel}') \n",
    "print('Texto', variavel) "
   ]
  },
  {
   "cell_type": "markdown",
   "metadata": {},
   "source": [
    "\n",
    "##Lendo em Python\n",
    "\n",
    "Para ler informação do teclado em Python, utilize o comando input. Normalmente, lê-se do teclado para preencher algumas variáveis."
   ]
  },
  {
   "cell_type": "code",
   "execution_count": 71,
   "metadata": {},
   "outputs": [],
   "source": [
    "nome = input(\"Qual seu nome?\")"
   ]
  },
  {
   "cell_type": "markdown",
   "metadata": {},
   "source": [
    "\n",
    "##Exercícios\n",
    "\n",
    "1. Faça um programa que cadastre um estudante no sistema, recebendo seu nome, idade, CPF e status da matrícula (que pode receber True para aluno de matrícula ativa e False para aluno de matrícula trancada) e mostre na tela todas as informações do aluno cadastrado."
   ]
  },
  {
   "cell_type": "code",
   "execution_count": 72,
   "metadata": {},
   "outputs": [],
   "source": [
    "# Write your code here and execute it\n"
   ]
  },
  {
   "cell_type": "markdown",
   "metadata": {},
   "source": [
    "<details>\n",
    "<summary>Solution</summary>\n",
    "\n",
    "```python\n",
    "nome = input(\"Digite o nome do estudante: \")\n",
    "idade = int(input(\"Digite a idade do estudante: \"))\n",
    "cpf = input(\"Digite o CPF do estudante: \")\n",
    "status_matricula = input(\"Digite o status da matrícula (True para ativa, False para trancada): \")\n",
    "# Exibe na tela todas as informações do estudante cadastrado\n",
    "print(\"\\nInformações do estudante cadastrado:\")\n",
    "print(f\"Nome: {nome}\")\n",
    "print(f\"Idade: {idade} anos\")\n",
    "print(f\"CPF: {cpf}\")\n",
    "print(f\"Status da Matrícula: {status_matricula}\")\n",
    "```\n"
   ]
  },
  {
   "cell_type": "markdown",
   "metadata": {},
   "source": [
    "2. Escreva um programa para converter uma temperatura em Celsius (°C) para Kelvin (K) e exibir na tela a temperatura em K."
   ]
  },
  {
   "cell_type": "code",
   "execution_count": 73,
   "metadata": {},
   "outputs": [],
   "source": [
    "# Write your code here and execute it"
   ]
  },
  {
   "cell_type": "markdown",
   "metadata": {},
   "source": [
    "<details>\n",
    "<summary>Solution</summary>\n",
    "\n",
    "```python\n",
    "temperatura_celsius = float(input(\"Digite a temperatura em Celsius: \"))\n",
    "temperatura_kelvin = temperatura_celsius + 273.15\n",
    "print(f\"A temperatura em Kelvin é: {temperatura_kelvin} K\")\n"
   ]
  },
  {
   "cell_type": "markdown",
   "metadata": {},
   "source": [
    "Faça um programa que resolva equações do segundo grau. Para isso, leia do teclado os valores de a,b e c e exiba na tela as raízes e o valor de Δ"
   ]
  },
  {
   "cell_type": "code",
   "execution_count": 74,
   "metadata": {},
   "outputs": [],
   "source": [
    "# Write your code here and execute it"
   ]
  },
  {
   "cell_type": "markdown",
   "metadata": {},
   "source": [
    "<details>\n",
    "<summary>Solution</summary>\n",
    "\n",
    "```python\n",
    "a = float(input(\"Digite o valor de a: \"))\n",
    "b = float(input(\"Digite o valor de b: \"))\n",
    "c = float(input(\"Digite o valor de c: \"))\n",
    "delta = b**2 - 4*a*c\n",
    "# Calcula as raízes\n",
    "raiz1 = (-b + math.sqrt(delta)) / (2*a)\n",
    "raiz2 = (-b - math.sqrt(delta)) / (2*a)\n",
    "\n",
    "print(f\"Raiz 1: {raiz1}\")\n",
    "print(f\"Raiz 2: {raiz2}\")\n",
    "print(f\"O valor de Δ (discriminante) é: {delta}\")"
   ]
  }
 ],
 "metadata": {
  "kernelspec": {
   "display_name": "Python 3",
   "language": "python",
   "name": "python3"
  },
  "language_info": {
   "codemirror_mode": {
    "name": "ipython",
    "version": 3
   },
   "file_extension": ".py",
   "mimetype": "text/x-python",
   "name": "python",
   "nbconvert_exporter": "python",
   "pygments_lexer": "ipython3",
   "version": "3.10.12"
  }
 },
 "nbformat": 4,
 "nbformat_minor": 2
}
