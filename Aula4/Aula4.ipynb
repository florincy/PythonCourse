{
 "cells": [
  {
   "cell_type": "markdown",
   "metadata": {},
   "source": [
    "\n",
    "#Aula 4\n",
    "##Estruturas de Repetição\n",
    "\n",
    "Estruturas de repetição permitem executar várias vezes o mesmo bloco de código. Refere-se a uma maneira de realizar conjuntos de instruções apenas quando certas condições são atendidas, mas com a possibilidade de iterar sobre o mesmo conjunto de comandos tantas vezes quanto necessário.\n",
    "\n",
    "É utilizado para percorrer uma sequência de dados. Podemos percorrer a sequência de dados assumindo os valores de cada elemento iterado ou índice de cada iteração."
   ]
  },
  {
   "cell_type": "markdown",
   "metadata": {},
   "source": [
    "\n",
    "###For"
   ]
  },
  {
   "cell_type": "markdown",
   "metadata": {},
   "source": [
    "```python\n",
    "for i in range(inicio, fim, passo):\n",
    "\tbloco_repetido "
   ]
  },
  {
   "cell_type": "markdown",
   "metadata": {},
   "source": [
    "```python\n",
    "sequencia=[a,c,d]\n",
    "for i in sequencia: \n",
    "\tbloco_repetido "
   ]
  },
  {
   "cell_type": "markdown",
   "metadata": {},
   "source": [
    "###While\n",
    "\n",
    "É utilizado para repetir um bloco de código enquanto certa condição for verdadeira (“while” significa “enquanto”)."
   ]
  },
  {
   "cell_type": "markdown",
   "metadata": {},
   "source": [
    "```python\n",
    "variável_de_controle = algo \n",
    "while condição:\n",
    "\tbloco_repetição \n",
    "\tatualiza_ variável_de_controle"
   ]
  },
  {
   "cell_type": "markdown",
   "metadata": {},
   "source": [
    "###Comando auxiliares\n",
    "\n",
    "1. break: Para execução de um bloco de repetição\n",
    "2. continue: Pula todo código do loop abaixo dele e inicia a próxima iteração\n",
    "3. Usado para criar bloco de código vazio"
   ]
  },
  {
   "cell_type": "markdown",
   "metadata": {},
   "source": [
    "\n",
    "##Exercícios\n",
    "\n",
    "1. Faça a tabuada do 5 usando a) for e b) while."
   ]
  },
  {
   "cell_type": "code",
   "execution_count": 5,
   "metadata": {},
   "outputs": [],
   "source": [
    "# Write your code here and execute it"
   ]
  },
  {
   "cell_type": "markdown",
   "metadata": {},
   "source": [
    "<details>\n",
    "<summary>Solution</summary>\n",
    "\n",
    "```python\n",
    "print(\"Tabuada do 5 usando for:\")\n",
    "for i in range(0, 11):\n",
    "    resultado = 5 * i\n",
    "    print(f\"5 x {i} = {resultado}\")\n",
    "\n",
    "# Tabuada do 5 usando um loop while\n",
    "print(\"\\nTabuada do 5 usando while:\")\n",
    "i = 0\n",
    "while i <= 10:\n",
    "    resultado = 5 * i\n",
    "    print(f\"5 x {i} = {resultado}\")\n",
    "    i += 1"
   ]
  },
  {
   "cell_type": "markdown",
   "metadata": {},
   "source": [
    "2. Faça um programa que calcule o fatorial de um número lido do teclado usando for ou while."
   ]
  },
  {
   "cell_type": "markdown",
   "metadata": {},
   "source": [
    "<details>\n",
    "<summary>Solution</summary>\n",
    "\n",
    "```python\n",
    "n=int(input(\"Digite o número para cálculo do fatorial \"))\n",
    "if n == 0:\n",
    "    print(f\"fatorial de {n} é 1\")\n",
    "else:   \n",
    "    resultado=1\n",
    "    i=0\n",
    "    while i <n:\n",
    "        i += 1\n",
    "        resultado *= i\n",
    "    print(f\"fatorial de {n} é {resultado}\") "
   ]
  },
  {
   "cell_type": "code",
   "execution_count": 6,
   "metadata": {},
   "outputs": [],
   "source": [
    "# Write your code here and execute it"
   ]
  },
  {
   "cell_type": "markdown",
   "metadata": {},
   "source": [
    "3. Faça um programa que leia um número e diga se ele é primo ou não. Dica: Números primos somente são naturais maiores do que são divisíveis por 1 e pelo próprio número."
   ]
  },
  {
   "cell_type": "code",
   "execution_count": 7,
   "metadata": {},
   "outputs": [],
   "source": [
    "# Write your code here and execute it"
   ]
  },
  {
   "cell_type": "markdown",
   "metadata": {},
   "source": [
    "<details>\n",
    "<summary>Solution</summary>\n",
    "\n",
    "```python\n",
    "#versão plus\n",
    "n=int(input(\"Digite um número natural: \"))\n",
    "if n == 0:\n",
    "    print (f\"{n} não é primo\")\n",
    "else:\n",
    "    for i in range (2,n):\n",
    "        if n%i == 0 and i != n:\n",
    "            print (f\"{n} não é primo\")\n",
    "            break\n",
    "    else:\n",
    "        print (f\"{n} é primo\")\n",
    "\n",
    "#Versão basic\n",
    "\n",
    "n=int(input(\"Digite um número natural: \"))\n",
    "primo = True\n",
    "if n == 0:\n",
    "    print (f\"{n} não é primo\")\n",
    "else:\n",
    "    for i in range (2,n):\n",
    "        if n%i == 0 and i != n:\n",
    "            primo = False\n",
    "            break\n",
    "    if primo == True:\n",
    "        print (f\"{n} é primo\")\n",
    "    else: \n",
    "        print (f\"{n}  não é primo\")"
   ]
  },
  {
   "cell_type": "markdown",
   "metadata": {},
   "source": [
    "\n",
    "##Funções\n",
    "\n",
    "Funções permitem a reutilização do código, de forma que se possa abstrair partes relevantes e/ou repetitivas do programa.Uma função é um bloco de código que é rodado somente ao ser invocado\n"
   ]
  },
  {
   "cell_type": "markdown",
   "metadata": {},
   "source": [
    "<details>\n",
    "<summary>Solution</summary>\n",
    "\n",
    "```python \n",
    "def nome_da_função (parâmetros): \n",
    "\t# corpo da função \n",
    "\treturn retorno \n",
    "\n",
    "def main(): \n",
    "\t# corpo da função main \n",
    "\n",
    "if __name__ == \"__main__\": \n",
    "\tmain() "
   ]
  },
  {
   "cell_type": "markdown",
   "metadata": {},
   "source": [
    "##Exercícios\n",
    "\n",
    "1. Faça a tabuada de 1 a 10."
   ]
  },
  {
   "cell_type": "code",
   "execution_count": 8,
   "metadata": {},
   "outputs": [],
   "source": [
    "# Write your code here and execute it"
   ]
  },
  {
   "cell_type": "markdown",
   "metadata": {},
   "source": [
    "<details>\n",
    "<summary>Solution</summary>\n",
    "\n",
    "```python\n",
    "def tabuada(n):\n",
    "    print(f\"Tabuada do {n} usando for:\")\n",
    "    for i in range(0, 11):\n",
    "        resultado = n * i\n",
    "        print(f\"{n} x {i} = {resultado}\")\n",
    "\n",
    "def main():\n",
    "    for i in range(0, 11):\n",
    "\t    tabuada(i)\n",
    "          \n",
    "if __name__ == \"__main__\":\n",
    "\tmain()"
   ]
  }
 ],
 "metadata": {
  "kernelspec": {
   "display_name": "Python 3",
   "language": "python",
   "name": "python3"
  },
  "language_info": {
   "codemirror_mode": {
    "name": "ipython",
    "version": 3
   },
   "file_extension": ".py",
   "mimetype": "text/x-python",
   "name": "python",
   "nbconvert_exporter": "python",
   "pygments_lexer": "ipython3",
   "version": "3.10.12"
  }
 },
 "nbformat": 4,
 "nbformat_minor": 2
}
